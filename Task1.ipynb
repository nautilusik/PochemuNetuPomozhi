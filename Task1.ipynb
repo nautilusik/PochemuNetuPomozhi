{
  "metadata": {
    "language_info": {
      "name": ""
    },
    "kernelspec": {
      "name": "",
      "display_name": ""
    }
  },
  "nbformat_minor": 4,
  "nbformat": 4,
  "cells": [
    {
      "cell_type": "markdown",
      "source": "Задана строка. Необходимо посчитать количество символов",
      "metadata": {}
    },
    {
      "cell_type": "code",
      "source": "task = input()\nprint(len(task))",
      "metadata": {},
      "execution_count": null,
      "outputs": []
    },
    {
      "cell_type": "markdown",
      "source": "Измените порядок символов в строке на обратный.",
      "metadata": {}
    },
    {
      "cell_type": "code",
      "source": "task = input()\nprint(task[::-1])",
      "metadata": {},
      "execution_count": null,
      "outputs": []
    },
    {
      "cell_type": "markdown",
      "source": "Найдите подстроку, заключенную в двойных кавычках в строке.",
      "metadata": {}
    },
    {
      "cell_type": "code",
      "source": "task = input()\nprint(s[task.find('\"')+1, task.rfind('\"')])",
      "metadata": {},
      "execution_count": null,
      "outputs": []
    },
    {
      "cell_type": "markdown",
      "source": "В строке записаны два числа, разделенные пробелом. Поменяйте их местами и напечатайте результат.",
      "metadata": {}
    },
    {
      "cell_type": "code",
      "source": "st1, sc2 = input().split()\nprint(sc2, st1)",
      "metadata": {},
      "execution_count": null,
      "outputs": []
    },
    {
      "cell_type": "markdown",
      "source": "Из почтового адреса нужно достать логин",
      "metadata": {}
    },
    {
      "cell_type": "code",
      "source": "task = input()\nans = taskl[:task.find('@')]\nprint(ans)",
      "metadata": {},
      "execution_count": null,
      "outputs": []
    },
    {
      "cell_type": "markdown",
      "source": "Человек вводит на сайте номер телефона, ему позволено для удобства использовать кроме плюса и цифр знаки ‘-’, ‘)’, ‘(’ и пробелы. Уберите их из ввода.",
      "metadata": {}
    },
    {
      "cell_type": "code",
      "source": "task = input()\ntask.strip('-()').replace(' ', '')\nprint(task)",
      "metadata": {},
      "execution_count": null,
      "outputs": []
    },
    {
      "cell_type": "markdown",
      "source": "Вводится строка. Разделитель слов – пробел. Вывести все слова (на отдельных строках).",
      "metadata": {}
    },
    {
      "cell_type": "code",
      "source": "print(*input().split(), sep='\\n')",
      "metadata": {},
      "execution_count": null,
      "outputs": []
    },
    {
      "cell_type": "markdown",
      "source": "Вам дана строка, состоящая только из букв английского алфавита и пробелов. Напишите программу, которая определит, является ли строка палиндромом.",
      "metadata": {}
    },
    {
      "cell_type": "code",
      "source": "task = input()\nif task[:len(task)//2] == task[len(task)//2:]:\n    print('Yes')\nelse:\n    print('No')",
      "metadata": {},
      "execution_count": null,
      "outputs": []
    }
  ]
}
