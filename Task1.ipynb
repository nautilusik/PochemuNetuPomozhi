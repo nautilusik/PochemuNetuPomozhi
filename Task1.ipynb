{
  "metadata": {
    "language_info": {
      "codemirror_mode": {
        "name": "python",
        "version": 3
      },
      "file_extension": ".py",
      "mimetype": "text/x-python",
      "name": "python",
      "nbconvert_exporter": "python",
      "pygments_lexer": "ipython3",
      "version": "3.8"
    },
    "kernelspec": {
      "name": "python",
      "display_name": "Python (Pyodide)",
      "language": "python"
    }
  },
  "nbformat_minor": 4,
  "nbformat": 4,
  "cells": [
    {
      "cell_type": "raw",
      "source": "Задана строка. Необходимо посчитать количество символов",
      "metadata": {}
    },
    {
      "cell_type": "code",
      "source": "s = input()\nprint(len(s))",
      "metadata": {},
      "execution_count": null,
      "outputs": []
    },
    {
      "cell_type": "raw",
      "source": "Измените порядок символов в строке на обратный.",
      "metadata": {}
    },
    {
      "cell_type": "code",
      "source": "s = input()\nprint(s[::-1])",
      "metadata": {},
      "execution_count": null,
      "outputs": []
    },
    {
      "cell_type": "raw",
      "source": "Найдите подстроку, заключенную в двойных кавычках в строке.",
      "metadata": {}
    },
    {
      "cell_type": "code",
      "source": "s = input()\nprint(s[s.find('\"')+1, s.rfind('\"')])",
      "metadata": {},
      "execution_count": null,
      "outputs": []
    },
    {
      "cell_type": "raw",
      "source": "В строке записаны два числа, разделенные пробелом. Поменяйте их местами и напечатайте результат.",
      "metadata": {}
    },
    {
      "cell_type": "code",
      "source": "a, b = input().split()\nprint(b, a)",
      "metadata": {},
      "execution_count": null,
      "outputs": []
    },
    {
      "cell_type": "raw",
      "source": "Из почтового адреса нужно достать логин",
      "metadata": {}
    },
    {
      "cell_type": "code",
      "source": "email = input()\nlogin = email[:email.find('@')]\nprint(login)",
      "metadata": {},
      "execution_count": null,
      "outputs": []
    },
    {
      "cell_type": "raw",
      "source": "Человек вводит на сайте номер телефона, ему позволено для удобства использовать кроме плюса и цифр знаки ‘-’, ‘)’, ‘(’ и пробелы. Уберите их из ввода.",
      "metadata": {}
    },
    {
      "cell_type": "code",
      "source": "phone = input()\nphone.strip('-()').replace(' ', '')\nprint(phone)",
      "metadata": {},
      "execution_count": null,
      "outputs": []
    },
    {
      "cell_type": "raw",
      "source": "Вводится строка. Разделитель слов – пробел. Вывести все слова (на отдельных строках).",
      "metadata": {}
    },
    {
      "cell_type": "code",
      "source": "print(*input().split(), sep='\\n')",
      "metadata": {},
      "execution_count": null,
      "outputs": []
    },
    {
      "cell_type": "raw",
      "source": "Вам дана строка, состоящая только из букв английского алфавита и пробелов. Напишите программу, которая определит, является ли строка палиндромом.",
      "metadata": {}
    },
    {
      "cell_type": "code",
      "source": "s = input()\nif s[:len(s)//2] == s[len(s)//2:]:\n    print('Yes')\nelse:\n    print('No')",
      "metadata": {},
      "execution_count": null,
      "outputs": []
    }
  ]
}